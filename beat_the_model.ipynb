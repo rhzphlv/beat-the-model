{
 "cells": [
  {
   "cell_type": "code",
   "execution_count": 1,
   "metadata": {},
   "outputs": [],
   "source": [
    "from math import sqrt\n",
    "import pandas as pd\n",
    "import numpy as np\n",
    "import matplotlib.pyplot as plt\n",
    "\n",
    "from sklearn.model_selection import train_test_split\n",
    "from sklearn.linear_model import Lasso\n",
    "from sklearn.pipeline import Pipeline\n",
    "from sklearn.metrics import mean_squared_error, r2_score\n",
    "\n",
    "pd.pandas.set_option('display.max_columns', None)"
   ]
  },
  {
   "cell_type": "code",
   "execution_count": 2,
   "metadata": {},
   "outputs": [],
   "source": [
    "data=pd.read_csv('houseprice.csv')\n",
    "data=data.drop(labels=['Id'],axis=1)"
   ]
  },
  {
   "cell_type": "code",
   "execution_count": 3,
   "metadata": {},
   "outputs": [],
   "source": [
    "categorical=[i for i in data.columns if data[i].dtype=='O']"
   ]
  },
  {
   "cell_type": "code",
   "execution_count": 4,
   "metadata": {},
   "outputs": [],
   "source": [
    "numerical=[i for i in data.columns if (i not in categorical)&(i!='SalePrice')]"
   ]
  },
  {
   "cell_type": "code",
   "execution_count": 5,
   "metadata": {},
   "outputs": [],
   "source": [
    "year=[i for i in numerical if 'Yr' in i or 'Year' in i]"
   ]
  },
  {
   "cell_type": "code",
   "execution_count": 6,
   "metadata": {},
   "outputs": [],
   "source": [
    "continous=[i for i in numerical if (data[i].nunique()>50)&(i not in year)]"
   ]
  },
  {
   "cell_type": "code",
   "execution_count": 7,
   "metadata": {},
   "outputs": [],
   "source": [
    "discrete=[i for i in numerical if (data[i].nunique()<50)&(i not in year)]"
   ]
  },
  {
   "cell_type": "code",
   "execution_count": 8,
   "metadata": {},
   "outputs": [],
   "source": [
    "x_train, x_test, y_train, y_test = train_test_split(data.drop(['SalePrice'], axis=1),\n",
    "                                                    data['SalePrice'],\n",
    "                                                    test_size=0.1,\n",
    "                                                    random_state=0)"
   ]
  },
  {
   "cell_type": "code",
   "execution_count": 9,
   "metadata": {},
   "outputs": [],
   "source": [
    "def year_extract(data,year):\n",
    "    year_dict={}\n",
    "    for i in year:\n",
    "        if i != 'YrSold':\n",
    "            data[i]=data['YrSold']-data[i]\n",
    "    data.drop('YrSold', axis=1, inplace=True)\n",
    "    return data"
   ]
  },
  {
   "cell_type": "code",
   "execution_count": 10,
   "metadata": {},
   "outputs": [],
   "source": [
    "x_train=year_extract(x_train,year)\n",
    "x_test=year_extract(x_test,year)"
   ]
  },
  {
   "cell_type": "code",
   "execution_count": 11,
   "metadata": {},
   "outputs": [],
   "source": [
    "year.remove('YrSold')"
   ]
  },
  {
   "cell_type": "code",
   "execution_count": 12,
   "metadata": {},
   "outputs": [],
   "source": [
    "from sklearn.preprocessing import MaxAbsScaler\n",
    "\n",
    "from feature_engine.discretisation import DecisionTreeDiscretiser as DTD\n",
    "\n",
    "from feature_engine.encoding import (\n",
    "    DecisionTreeEncoder as DTE,\n",
    "    RareLabelEncoder as RLE\n",
    ")\n",
    "\n",
    "from feature_engine.imputation import (\n",
    "    AddMissingIndicator as AMI,\n",
    "    ArbitraryNumberImputer as ANI,\n",
    "    CategoricalImputer as CI\n",
    ")"
   ]
  },
  {
   "cell_type": "code",
   "execution_count": 21,
   "metadata": {},
   "outputs": [],
   "source": [
    "house_pipe = Pipeline([\n",
    "    \n",
    "    ('missing_ind', AMI(\n",
    "        variables=['LotFrontage','GarageYrBlt'])),\n",
    "    \n",
    "    ('imputer_num', ANI(\n",
    "        arbitrary_number=0,\n",
    "        variables=['LotFrontage', 'MasVnrArea',  'GarageYrBlt'])),\n",
    "    \n",
    "    ('imputer_cat', CI(\n",
    "        variables=categorical)),\n",
    "    \n",
    "    ('discretisation',DTD(\n",
    "        random_state=1,\n",
    "        variables=discrete+continous+year)),\n",
    "\n",
    "    ('rare_label_enc', RLE(\n",
    "        tol=0.008, \n",
    "        n_categories=1, \n",
    "        variables=categorical)),\n",
    "    \n",
    "    ('categorical_enc',DTE(\n",
    "        random_state=1,\n",
    "        variables= categorical)),\n",
    "\n",
    "    ('scaler', MaxAbsScaler()),\n",
    "    \n",
    "    ('lasso', Lasso(random_state=0))\n",
    "])"
   ]
  },
  {
   "cell_type": "code",
   "execution_count": 22,
   "metadata": {},
   "outputs": [
    {
     "data": {
      "text/plain": [
       "Pipeline(steps=[('missing_ind',\n",
       "                 AddMissingIndicator(variables=['LotFrontage', 'GarageYrBlt'])),\n",
       "                ('imputer_num',\n",
       "                 ArbitraryNumberImputer(arbitrary_number=0,\n",
       "                                        variables=['LotFrontage', 'MasVnrArea',\n",
       "                                                   'GarageYrBlt'])),\n",
       "                ('imputer_cat',\n",
       "                 CategoricalImputer(variables=['MSZoning', 'Street', 'Alley',\n",
       "                                               'LotShape', 'LandContour',\n",
       "                                               'Utilities', 'LotConfig',\n",
       "                                               'LandSlope', 'Neighborho...\n",
       "                                                'LandSlope', 'Neighborhood',\n",
       "                                                'Condition1', 'Condition2',\n",
       "                                                'BldgType', 'HouseStyle',\n",
       "                                                'RoofStyle', 'RoofMatl',\n",
       "                                                'Exterior1st', 'Exterior2nd',\n",
       "                                                'MasVnrType', 'ExterQual',\n",
       "                                                'ExterCond', 'Foundation',\n",
       "                                                'BsmtQual', 'BsmtCond',\n",
       "                                                'BsmtExposure', 'BsmtFinType1',\n",
       "                                                'BsmtFinType2', 'Heating',\n",
       "                                                'HeatingQC', 'CentralAir',\n",
       "                                                'Electrical', ...])),\n",
       "                ('scaler', MaxAbsScaler()), ('lasso', Lasso(random_state=0))])"
      ]
     },
     "execution_count": 22,
     "metadata": {},
     "output_type": "execute_result"
    }
   ],
   "source": [
    "house_pipe.fit(x_train, y_train)"
   ]
  },
  {
   "cell_type": "code",
   "execution_count": 23,
   "metadata": {},
   "outputs": [],
   "source": [
    "x_train_preds = house_pipe.predict(x_train)\n",
    "x_test_preds = house_pipe.predict(x_test)"
   ]
  },
  {
   "cell_type": "code",
   "execution_count": 24,
   "metadata": {},
   "outputs": [
    {
     "name": "stdout",
     "output_type": "stream",
     "text": [
      "train mse: 566250486.6119391\n",
      "train rmse: 23796.01829323425\n",
      "train r2: 0.9093104206190826\n",
      "\n",
      "test mse: 880317212.7177948\n",
      "test rmse: 29670.140085914572\n",
      "test r2: 0.8719001099373364\n"
     ]
    }
   ],
   "source": [
    "print('train mse: {}'.format(mean_squared_error(y_train, x_train_preds)))\n",
    "print('train rmse: {}'.format(sqrt(mean_squared_error(y_train, x_train_preds))))\n",
    "print('train r2: {}'.format(r2_score(y_train, x_train_preds)))\n",
    "print()\n",
    "print('test mse: {}'.format(mean_squared_error(y_test, x_test_preds)))\n",
    "print('test rmse: {}'.format(sqrt(mean_squared_error(y_test, x_test_preds))))\n",
    "print('test r2: {}'.format(r2_score(y_test, x_test_preds)))"
   ]
  }
 ],
 "metadata": {
  "kernelspec": {
   "display_name": "ML",
   "language": "python",
   "name": "ml"
  },
  "language_info": {
   "codemirror_mode": {
    "name": "ipython",
    "version": 3
   },
   "file_extension": ".py",
   "mimetype": "text/x-python",
   "name": "python",
   "nbconvert_exporter": "python",
   "pygments_lexer": "ipython3",
   "version": "3.8.1"
  }
 },
 "nbformat": 4,
 "nbformat_minor": 4
}
